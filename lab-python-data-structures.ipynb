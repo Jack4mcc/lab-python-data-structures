{
 "cells": [
  {
   "cell_type": "code",
   "execution_count": 32,
   "id": "2dcc3085-a80c-468c-8f29-8b85204b8aca",
   "metadata": {},
   "outputs": [],
   "source": [
    "products = [\"t-shirt\", \"mug\", \"hat\", \"book\", \"keychain\"]"
   ]
  },
  {
   "cell_type": "code",
   "execution_count": 5,
   "id": "b30adaed-333a-4310-8446-82e665e88226",
   "metadata": {},
   "outputs": [],
   "source": [
    "inventory = {}"
   ]
  },
  {
   "cell_type": "code",
   "execution_count": 21,
   "id": "3b96e185-8894-49df-b557-b66dd0d59df7",
   "metadata": {},
   "outputs": [
    {
     "name": "stdin",
     "output_type": "stream",
     "text": [
      "input t-shirt quantity:  4\n"
     ]
    }
   ],
   "source": [
    "inventory_tshirt = int(input(\"input t-shirt quantity: \"))"
   ]
  },
  {
   "cell_type": "code",
   "execution_count": 25,
   "id": "19ca7d09-356b-45fc-a628-2180deff01a0",
   "metadata": {},
   "outputs": [
    {
     "name": "stdin",
     "output_type": "stream",
     "text": [
      "input mug quantitiy:  3\n"
     ]
    }
   ],
   "source": [
    "inventory_mug = int(input(\"input mug quantitiy: \"))"
   ]
  },
  {
   "cell_type": "code",
   "execution_count": 27,
   "id": "a7cabf5e-392d-4af3-bca1-0a9b39bf04a1",
   "metadata": {},
   "outputs": [
    {
     "name": "stdin",
     "output_type": "stream",
     "text": [
      "input hat quantity:  2\n"
     ]
    }
   ],
   "source": [
    "inventory_hat = int(input(\"input hat quantity: \"))"
   ]
  },
  {
   "cell_type": "code",
   "execution_count": 29,
   "id": "6ddce168-aded-4fe1-a8c4-b9b6cb993f99",
   "metadata": {},
   "outputs": [
    {
     "name": "stdin",
     "output_type": "stream",
     "text": [
      "input book quantitiy:  9\n"
     ]
    }
   ],
   "source": [
    "inventory_book = int(input(\"input book quantitiy: \"))"
   ]
  },
  {
   "cell_type": "code",
   "execution_count": 31,
   "id": "b9c5369b-d3ac-47ac-a824-45f92d3a1481",
   "metadata": {},
   "outputs": [
    {
     "name": "stdin",
     "output_type": "stream",
     "text": [
      "input keychain quantitiy:  1\n"
     ]
    }
   ],
   "source": [
    "inventory_keychain = int(input(\"input keychain quantitiy: \"))"
   ]
  },
  {
   "cell_type": "code",
   "execution_count": 54,
   "id": "3de192e0-e77f-42bb-aaae-b4c5071b3dd7",
   "metadata": {},
   "outputs": [],
   "source": [
    "inventory = {\"t-shirt\": 4, \"mug\": 3, \"hat\": 2, \"book\": 9, \"keychain\": 1} "
   ]
  },
  {
   "cell_type": "code",
   "execution_count": 1,
   "id": "5a44c308-ab13-4998-bff6-84f749886eb3",
   "metadata": {},
   "outputs": [],
   "source": [
    "customer_orders = {}"
   ]
  },
  {
   "cell_type": "code",
   "execution_count": 9,
   "id": "739eca23-e0df-47d4-a6fa-7ed31f70f5be",
   "metadata": {},
   "outputs": [
    {
     "name": "stdin",
     "output_type": "stream",
     "text": [
      "customer_orders:  mug\n",
      "customer_orders:  hat\n",
      "customer_orders:  book\n"
     ]
    },
    {
     "data": {
      "text/plain": [
       "'book'"
      ]
     },
     "execution_count": 9,
     "metadata": {},
     "output_type": "execute_result"
    }
   ],
   "source": [
    "input(\"customer_orders: \")\n",
    "input(\"customer_orders: \")\n",
    "input(\"customer_orders: \")"
   ]
  },
  {
   "cell_type": "code",
   "execution_count": 13,
   "id": "44930a08-7c65-4008-90fd-77390f61d28a",
   "metadata": {},
   "outputs": [],
   "source": [
    "customer_orders = {\"mug\", \"hat\", \"book\"}"
   ]
  },
  {
   "cell_type": "code",
   "execution_count": 15,
   "id": "702de2b5-b6b5-41de-8a0a-a200e056e2e9",
   "metadata": {},
   "outputs": [
    {
     "name": "stdout",
     "output_type": "stream",
     "text": [
      "{'mug', 'hat', 'book'}\n"
     ]
    }
   ],
   "source": [
    "print(customer_orders)"
   ]
  },
  {
   "cell_type": "code",
   "execution_count": 18,
   "id": "f2247857-0b7c-4e78-bbfb-745ba7ace847",
   "metadata": {},
   "outputs": [
    {
     "data": {
      "text/plain": [
       "3"
      ]
     },
     "execution_count": 18,
     "metadata": {},
     "output_type": "execute_result"
    }
   ],
   "source": [
    "len(customer_orders)"
   ]
  },
  {
   "cell_type": "code",
   "execution_count": 34,
   "id": "2799d52a-39de-4ddf-a45e-f26f07d44347",
   "metadata": {},
   "outputs": [],
   "source": [
    "percentage = len(customer_orders) / len(products)"
   ]
  },
  {
   "cell_type": "code",
   "execution_count": 36,
   "id": "513716b0-678e-4e60-b2ef-94eb8917aa1b",
   "metadata": {},
   "outputs": [
    {
     "data": {
      "text/plain": [
       "0.6"
      ]
     },
     "execution_count": 36,
     "metadata": {},
     "output_type": "execute_result"
    }
   ],
   "source": [
    "percentage"
   ]
  },
  {
   "cell_type": "code",
   "execution_count": 38,
   "id": "6c64af19-d2a0-4ffd-bca8-66ead8a3d66c",
   "metadata": {},
   "outputs": [],
   "source": [
    "order_statistics = (3, 0.6)"
   ]
  },
  {
   "cell_type": "code",
   "execution_count": 48,
   "id": "d3bb8feb-1fba-49a3-92a0-6f395d61d61f",
   "metadata": {},
   "outputs": [],
   "source": [
    "Order_Statistics = {\"total products ordered\" : 3, \"percentage of products ordered\" : 0.6}\n"
   ]
  },
  {
   "cell_type": "code",
   "execution_count": 50,
   "id": "a25eea53-d4c1-4ee8-b75c-da8457256ed2",
   "metadata": {},
   "outputs": [
    {
     "name": "stdout",
     "output_type": "stream",
     "text": [
      "{'total products ordered': 3, 'percentage of products ordered': 0.6}\n"
     ]
    }
   ],
   "source": [
    "print(Order_Statistics)"
   ]
  },
  {
   "cell_type": "code",
   "execution_count": 56,
   "id": "2efcd407-e90b-4e8d-8614-377c313a6fcf",
   "metadata": {},
   "outputs": [
    {
     "data": {
      "text/plain": [
       "{'t-shirt': 4, 'mug': 3, 'hat': 2, 'book': 9, 'keychain': 1}"
      ]
     },
     "execution_count": 56,
     "metadata": {},
     "output_type": "execute_result"
    }
   ],
   "source": [
    "inventory"
   ]
  },
  {
   "cell_type": "code",
   "execution_count": 58,
   "id": "8df32bcd-e8c3-4326-aab1-c910b8ed969c",
   "metadata": {},
   "outputs": [],
   "source": [
    "inventory[\"t-shirt\"] = 3\n",
    "inventory[\"mug\"] = 2\n",
    "inventory[\"hat\"] = 1\n",
    "inventory[\"book\"] = 8\n",
    "inventory[\"keychain\"] = 0"
   ]
  },
  {
   "cell_type": "code",
   "execution_count": 60,
   "id": "8419dc4b-5dc1-4f66-bf1a-7ff99ef79013",
   "metadata": {},
   "outputs": [
    {
     "name": "stdout",
     "output_type": "stream",
     "text": [
      "{'t-shirt': 3, 'mug': 2, 'hat': 1, 'book': 8, 'keychain': 0}\n"
     ]
    }
   ],
   "source": [
    "print(inventory)"
   ]
  },
  {
   "cell_type": "code",
   "execution_count": 70,
   "id": "a761b921-6835-4462-9f51-7716fc63c26f",
   "metadata": {},
   "outputs": [
    {
     "name": "stdout",
     "output_type": "stream",
     "text": [
      "t-shirt 3\n",
      "mug 2\n",
      "hat 1\n",
      "book 8\n",
      "keychain 0\n"
     ]
    }
   ],
   "source": [
    "for key, value in inventory.items():\n",
    "    print(key, value)\n"
   ]
  },
  {
   "cell_type": "code",
   "execution_count": null,
   "id": "03f29dc8-d174-4cd2-a1be-bee077c4be65",
   "metadata": {},
   "outputs": [],
   "source": []
  }
 ],
 "metadata": {
  "kernelspec": {
   "display_name": "Python 3 (ipykernel)",
   "language": "python",
   "name": "python3"
  },
  "language_info": {
   "codemirror_mode": {
    "name": "ipython",
    "version": 3
   },
   "file_extension": ".py",
   "mimetype": "text/x-python",
   "name": "python",
   "nbconvert_exporter": "python",
   "pygments_lexer": "ipython3",
   "version": "3.12.7"
  }
 },
 "nbformat": 4,
 "nbformat_minor": 5
}
